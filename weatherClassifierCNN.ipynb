{
  "nbformat": 4,
  "nbformat_minor": 0,
  "metadata": {
    "kernelspec": {
      "display_name": "Python 3",
      "language": "python",
      "name": "python3"
    },
    "language_info": {
      "codemirror_mode": {
        "name": "ipython",
        "version": 3
      },
      "file_extension": ".py",
      "mimetype": "text/x-python",
      "name": "python",
      "nbconvert_exporter": "python",
      "pygments_lexer": "ipython3",
      "version": "3.7.6"
    },
    "colab": {
      "name": "weatherClassifierCNN.ipynb",
      "provenance": [],
      "collapsed_sections": [],
      "toc_visible": true,
      "include_colab_link": true
    },
    "accelerator": "GPU"
  },
  "cells": [
    {
      "cell_type": "markdown",
      "metadata": {
        "id": "view-in-github",
        "colab_type": "text"
      },
      "source": [
        "<a href=\"https://colab.research.google.com/github/scottieballs/weather_classifier/blob/master/weatherClassifierCNN.ipynb\" target=\"_parent\"><img src=\"https://colab.research.google.com/assets/colab-badge.svg\" alt=\"Open In Colab\"/></a>"
      ]
    },
    {
      "cell_type": "markdown",
      "metadata": {
        "id": "MKyRMFIsWqPK",
        "colab_type": "text"
      },
      "source": [
        "# Weather Image Classifier\n",
        "\n",
        "This python notebook contains the implementation of a convolutional neural network (CNN)\n",
        "for classifiying weather images into the following six classes:\n",
        "\n",
        "1. Sunny\n",
        "1. Cloudy\n",
        "1. Rainy\n",
        "1. Foggy\n",
        "1. Other\n",
        "\n",
        "The dataset used is the Image2Weather dataset published by \n",
        "\n",
        "Wei-Ta Chu, Xiang-You Zheng, and Ding-Shiuan Ding, \"Camera as Weather Sensor: Estimating Weather Information from Single Images,\" Journal of Visual Communications and Image Representation, vol. 46, pp. 233-249, 2017.\n",
        "\n"
      ]
    },
    {
      "cell_type": "code",
      "metadata": {
        "id": "3KJTKtMaWqPL",
        "colab_type": "code",
        "colab": {
          "base_uri": "https://localhost:8080/",
          "height": 52
        },
        "outputId": "cc109ac1-ff46-4c31-dc6a-1e496fed2143"
      },
      "source": [
        "# Import modules\n",
        "import os\n",
        "import zipfile\n",
        "import matplotlib.pyplot as plt\n",
        "import matplotlib.image as mpimg\n",
        "import tensorflow as tf\n",
        "from tensorflow.keras.optimizers import Adam\n",
        "from tensorflow.keras.preprocessing.image import ImageDataGenerator\n",
        "import random\n",
        "import math\n",
        "import PIL\n",
        "import sys\n",
        "\n",
        "from PIL import Image\n",
        "sys.modules['Image'] = Image\n",
        "\n",
        "print(tf.__version__)\n",
        "tf.test.gpu_device_name()\n",
        "\n",
        "# !pip install gputil\n",
        "# import psutil\n",
        "# import humanize\n",
        "# import GPUtil as GPU\n",
        "# GPUs = GPU.getGPUs()\n",
        "# # XXX: only one GPU on Colab and isn’t guaranteed\n",
        "# gpu = GPUs[0]\n",
        "# def printm():\n",
        "#  process = psutil.Process(os.getpid())\n",
        "#  print(\"Gen RAM Free: \" + humanize.naturalsize( psutil.virtual_memory().available ), \" | Proc size: \" + humanize.naturalsize( process.memory_info().rss))\n",
        "#  print(\"GPU RAM Free: {0:.0f}MB | Used: {1:.0f}MB | Util {2:3.0f}% | Total {3:.0f}MB\".format(gpu.memoryFree, gpu.memoryUsed, gpu.memoryUtil*100, gpu.memoryTotal))\n",
        "# printm() "
      ],
      "execution_count": null,
      "outputs": [
        {
          "output_type": "stream",
          "text": [
            "2.2.0\n"
          ],
          "name": "stdout"
        },
        {
          "output_type": "execute_result",
          "data": {
            "application/vnd.google.colaboratory.intrinsic": {
              "type": "string"
            },
            "text/plain": [
              "'/device:GPU:0'"
            ]
          },
          "metadata": {
            "tags": []
          },
          "execution_count": 1
        }
      ]
    },
    {
      "cell_type": "code",
      "metadata": {
        "id": "UxJevrHvYwqm",
        "colab_type": "code",
        "colab": {
          "base_uri": "https://localhost:8080/",
          "height": 139
        },
        "outputId": "20dfcf8d-dcd0-4e05-c590-31c756b7a0d5"
      },
      "source": [
        "# Mount gdrive\n",
        "from google.colab import drive\n",
        "drive.mount('/content/gdrive')\n",
        "\n",
        "cwd_path = os.path.abspath(os.getcwd())\n",
        "print(cwd_path)\n",
        "\n",
        "zip_file = cwd_path +'/gdrive/My\\ Drive/data/PreparedWeatherImages.zip'\n",
        "if (os.path.isdir('/tmp/data') == False):\n",
        "  os.mkdir('/tmp/data')\n",
        "!cp $zip_file '/tmp/data'\n",
        "\n",
        "# Unzip the dataset locally\n",
        "local_zip = '/tmp/data' + '/PreparedWeatherImages.zip'\n",
        "zip_ref = zipfile.ZipFile(local_zip, 'r')\n",
        "zip_ref.extractall('/tmp/data')\n",
        "zip_ref.close()"
      ],
      "execution_count": null,
      "outputs": [
        {
          "output_type": "stream",
          "text": [
            "Go to this URL in a browser: https://accounts.google.com/o/oauth2/auth?client_id=947318989803-6bn6qk8qdgf4n4g3pfee6491hc0brc4i.apps.googleusercontent.com&redirect_uri=urn%3aietf%3awg%3aoauth%3a2.0%3aoob&response_type=code&scope=email%20https%3a%2f%2fwww.googleapis.com%2fauth%2fdocs.test%20https%3a%2f%2fwww.googleapis.com%2fauth%2fdrive%20https%3a%2f%2fwww.googleapis.com%2fauth%2fdrive.photos.readonly%20https%3a%2f%2fwww.googleapis.com%2fauth%2fpeopleapi.readonly\n",
            "\n",
            "Enter your authorization code:\n",
            "··········\n",
            "Mounted at /content/gdrive\n",
            "/content\n"
          ],
          "name": "stdout"
        }
      ]
    },
    {
      "cell_type": "code",
      "metadata": {
        "id": "SzGsNNJTWqPP",
        "colab_type": "code",
        "colab": {}
      },
      "source": [
        "# Set the training and validation directories\n",
        "train_dir = '/tmp/data/WeatherImages'\n",
        "validation_dir = '/tmp/data/ValidationWeatherImages'\n",
        "\n",
        "# Set plot_vars = True if you want to see pictures of the data \n",
        "plot_vars = False"
      ],
      "execution_count": null,
      "outputs": []
    },
    {
      "cell_type": "code",
      "metadata": {
        "id": "t66fr0-PWqPU",
        "colab_type": "code",
        "colab": {}
      },
      "source": [
        "if plot_vars == True:\n",
        "  # Plot some of the images in the data set\n",
        "  %matplotlib inline\n",
        "\n",
        "  nrows = 1\n",
        "  ncols = 6\n",
        "\n",
        "  fig = plt.gcf()\n",
        "  fig.set_size_inches(ncols * 4, nrows * 4)\n",
        "\n",
        "  image_list = []\n",
        "  for d in os.listdir(train_dir):\n",
        "      train_subdir = train_dir + '/' + d\n",
        "      filename = os.listdir(train_subdir)[0]\n",
        "      image_list.append(os.path.join(train_subdir, filename))\n",
        "\n",
        "  for img_path in image_list:\n",
        "      sp = plt.subplot(nrows, ncols, image_list.index(img_path)+1)\n",
        "      sp.axis('Off')\n",
        "      \n",
        "      img = mpimg.imread(img_path)\n",
        "      plt.imshow(img)\n",
        "\n",
        "  plt.show()\n"
      ],
      "execution_count": null,
      "outputs": []
    },
    {
      "cell_type": "code",
      "metadata": {
        "id": "FtPgBnQqWqPX",
        "colab_type": "code",
        "colab": {}
      },
      "source": [
        "# Define callback class to stop training at 95 percent accuracy\n",
        "class myCallback(tf.keras.callbacks.Callback):\n",
        "  def on_epoch_end(self, epoch, logs={}):\n",
        "    if(logs.get('accuracy')>0.9):\n",
        "      print(\"\\nReached 90% accuracy so cancelling training!\")\n",
        "      self.model.stop_training = True\n",
        "\n",
        "callbacks = myCallback()\n",
        "\n",
        "checkpoint_path = cwd_path + '/gdrive/My Drive/data/training/cp.ckpt'\n",
        "checkpoint_dir = os.path.dirname(checkpoint_path)\n",
        "\n",
        "# Create a callback that saves the model's weights\n",
        "cp_callback = tf.keras.callbacks.ModelCheckpoint(filepath=checkpoint_path,\n",
        "                                                 save_weights_only=True,\n",
        "                                                 verbose=1)\n",
        "\n",
        "# Define the model\n",
        "model = tf.keras.models.Sequential([\n",
        "    tf.keras.layers.Conv2D(32, (3, 3), activation='relu', input_shape=(200, 200, 3)),\n",
        "    tf.keras.layers.BatchNormalization(),\n",
        "    tf.keras.layers.Conv2D(32, (3, 3), activation='relu'),\n",
        "    tf.keras.layers.BatchNormalization(),\n",
        "    tf.keras.layers.MaxPooling2D(2, 2),\n",
        "    tf.keras.layers.Conv2D(64, (3, 3), activation='relu'),\n",
        "    tf.keras.layers.BatchNormalization(),\n",
        "    tf.keras.layers.Conv2D(64, (3, 3), activation='relu'),\n",
        "    tf.keras.layers.BatchNormalization(),\n",
        "    tf.keras.layers.MaxPooling2D(2, 2),\n",
        "    tf.keras.layers.Conv2D(128, (3, 3), activation='relu'),\n",
        "    tf.keras.layers.BatchNormalization(),\n",
        "    tf.keras.layers.MaxPooling2D(2, 2),\n",
        "    tf.keras.layers.Flatten(),\n",
        "    tf.keras.layers.Dense(1024, activation='relu'),\n",
        "    tf.keras.layers.Dropout(0.2),\n",
        "    tf.keras.layers.Dense(6, activation='softmax')\n",
        "])"
      ],
      "execution_count": null,
      "outputs": []
    },
    {
      "cell_type": "code",
      "metadata": {
        "id": "lbZPjztCWqPZ",
        "colab_type": "code",
        "colab": {
          "base_uri": "https://localhost:8080/",
          "height": 731
        },
        "outputId": "1890736b-0de1-4162-f28b-f8de6f598712"
      },
      "source": [
        "model.summary()"
      ],
      "execution_count": null,
      "outputs": [
        {
          "output_type": "stream",
          "text": [
            "Model: \"sequential_9\"\n",
            "_________________________________________________________________\n",
            "Layer (type)                 Output Shape              Param #   \n",
            "=================================================================\n",
            "conv2d_43 (Conv2D)           (None, 198, 198, 32)      896       \n",
            "_________________________________________________________________\n",
            "batch_normalization_20 (Batc (None, 198, 198, 32)      128       \n",
            "_________________________________________________________________\n",
            "conv2d_44 (Conv2D)           (None, 196, 196, 32)      9248      \n",
            "_________________________________________________________________\n",
            "batch_normalization_21 (Batc (None, 196, 196, 32)      128       \n",
            "_________________________________________________________________\n",
            "max_pooling2d_35 (MaxPooling (None, 98, 98, 32)        0         \n",
            "_________________________________________________________________\n",
            "conv2d_45 (Conv2D)           (None, 96, 96, 64)        18496     \n",
            "_________________________________________________________________\n",
            "batch_normalization_22 (Batc (None, 96, 96, 64)        256       \n",
            "_________________________________________________________________\n",
            "conv2d_46 (Conv2D)           (None, 94, 94, 64)        36928     \n",
            "_________________________________________________________________\n",
            "batch_normalization_23 (Batc (None, 94, 94, 64)        256       \n",
            "_________________________________________________________________\n",
            "max_pooling2d_36 (MaxPooling (None, 47, 47, 64)        0         \n",
            "_________________________________________________________________\n",
            "conv2d_47 (Conv2D)           (None, 45, 45, 128)       73856     \n",
            "_________________________________________________________________\n",
            "batch_normalization_24 (Batc (None, 45, 45, 128)       512       \n",
            "_________________________________________________________________\n",
            "max_pooling2d_37 (MaxPooling (None, 22, 22, 128)       0         \n",
            "_________________________________________________________________\n",
            "flatten_9 (Flatten)          (None, 61952)             0         \n",
            "_________________________________________________________________\n",
            "dense_21 (Dense)             (None, 1024)              63439872  \n",
            "_________________________________________________________________\n",
            "dropout_4 (Dropout)          (None, 1024)              0         \n",
            "_________________________________________________________________\n",
            "dense_22 (Dense)             (None, 6)                 6150      \n",
            "=================================================================\n",
            "Total params: 63,586,726\n",
            "Trainable params: 63,586,086\n",
            "Non-trainable params: 640\n",
            "_________________________________________________________________\n"
          ],
          "name": "stdout"
        }
      ]
    },
    {
      "cell_type": "code",
      "metadata": {
        "id": "MoY6yOhfWqPb",
        "colab_type": "code",
        "colab": {}
      },
      "source": [
        "# Compile the model\n",
        "model.compile(loss='categorical_crossentropy',\n",
        "             optimizer=Adam(lr=0.0001),\n",
        "             metrics=['accuracy'])"
      ],
      "execution_count": null,
      "outputs": []
    },
    {
      "cell_type": "code",
      "metadata": {
        "id": "5jjJBmtqWqPe",
        "colab_type": "code",
        "colab": {
          "base_uri": "https://localhost:8080/",
          "height": 51
        },
        "outputId": "de37d8ff-476c-4093-f766-854210b79af6"
      },
      "source": [
        "train_datagen = ImageDataGenerator(rescale = 1./255,\n",
        "                                   rotation_range=10,\n",
        "                                   width_shift_range=0.1,\n",
        "                                   height_shift_range=0.1,\n",
        "                                   zoom_range=0.05,\n",
        "                                   horizontal_flip=True,\n",
        "                                   fill_mode='nearest')\n",
        "\n",
        "train_generator = train_datagen.flow_from_directory(\n",
        "    train_dir,\n",
        "    target_size = (200, 200),\n",
        "    batch_size = 128,\n",
        "    class_mode = 'categorical')\n",
        "\n",
        "validation_datagen = ImageDataGenerator(rescale = 1./255)\n",
        "\n",
        "validation_generator = validation_datagen.flow_from_directory(\n",
        "        validation_dir,\n",
        "        target_size=(200, 200),\n",
        "        batch_size=32,\n",
        "        class_mode='categorical')"
      ],
      "execution_count": null,
      "outputs": [
        {
          "output_type": "stream",
          "text": [
            "Found 147041 images belonging to 6 classes.\n",
            "Found 36757 images belonging to 6 classes.\n"
          ],
          "name": "stdout"
        }
      ]
    },
    {
      "cell_type": "code",
      "metadata": {
        "id": "njW5ah5wWqPh",
        "colab_type": "code",
        "colab": {
          "base_uri": "https://localhost:8080/",
          "height": 717
        },
        "outputId": "2f96689a-4384-4519-d333-d35c8a9ff1ba"
      },
      "source": [
        "history = model.fit(train_generator,\n",
        "                    steps_per_epoch = 400,\n",
        "                    epochs = 10,\n",
        "                    validation_data=validation_generator,\n",
        "                    verbose = 1,\n",
        "                    callbacks = [callbacks, cp_callback])"
      ],
      "execution_count": null,
      "outputs": [
        {
          "output_type": "stream",
          "text": [
            "Epoch 1/10\n",
            "400/400 [==============================] - ETA: 0s - loss: 0.9352 - accuracy: 0.6864\n",
            "Epoch 00001: saving model to /content/gdrive/My Drive/data/training/cp.ckpt\n",
            "400/400 [==============================] - 937s 2s/step - loss: 0.9352 - accuracy: 0.6864 - val_loss: 1.0107 - val_accuracy: 0.5480\n",
            "Epoch 2/10\n",
            "400/400 [==============================] - ETA: 0s - loss: 0.7155 - accuracy: 0.7258\n",
            "Epoch 00002: saving model to /content/gdrive/My Drive/data/training/cp.ckpt\n",
            "400/400 [==============================] - 938s 2s/step - loss: 0.7155 - accuracy: 0.7258 - val_loss: 0.7585 - val_accuracy: 0.6852\n",
            "Epoch 3/10\n",
            "400/400 [==============================] - ETA: 0s - loss: 0.6659 - accuracy: 0.7497\n",
            "Epoch 00003: saving model to /content/gdrive/My Drive/data/training/cp.ckpt\n",
            "400/400 [==============================] - 935s 2s/step - loss: 0.6659 - accuracy: 0.7497 - val_loss: 0.7237 - val_accuracy: 0.7208\n",
            "Epoch 4/10\n",
            "400/400 [==============================] - ETA: 0s - loss: 0.6428 - accuracy: 0.7602\n",
            "Epoch 00004: saving model to /content/gdrive/My Drive/data/training/cp.ckpt\n",
            "400/400 [==============================] - 941s 2s/step - loss: 0.6428 - accuracy: 0.7602 - val_loss: 0.6568 - val_accuracy: 0.7475\n",
            "Epoch 5/10\n",
            "400/400 [==============================] - ETA: 0s - loss: 0.6264 - accuracy: 0.7677\n",
            "Epoch 00005: saving model to /content/gdrive/My Drive/data/training/cp.ckpt\n",
            "400/400 [==============================] - 941s 2s/step - loss: 0.6264 - accuracy: 0.7677 - val_loss: 0.9072 - val_accuracy: 0.6373\n",
            "Epoch 6/10\n",
            "400/400 [==============================] - ETA: 0s - loss: 0.6199 - accuracy: 0.7689\n",
            "Epoch 00006: saving model to /content/gdrive/My Drive/data/training/cp.ckpt\n",
            "400/400 [==============================] - 941s 2s/step - loss: 0.6199 - accuracy: 0.7689 - val_loss: 0.6782 - val_accuracy: 0.7445\n",
            "Epoch 7/10\n",
            "400/400 [==============================] - ETA: 0s - loss: 0.6083 - accuracy: 0.7740\n",
            "Epoch 00007: saving model to /content/gdrive/My Drive/data/training/cp.ckpt\n",
            "400/400 [==============================] - 929s 2s/step - loss: 0.6083 - accuracy: 0.7740 - val_loss: 0.6255 - val_accuracy: 0.7649\n",
            "Epoch 8/10\n",
            "400/400 [==============================] - ETA: 0s - loss: 0.6068 - accuracy: 0.7771\n",
            "Epoch 00008: saving model to /content/gdrive/My Drive/data/training/cp.ckpt\n",
            "400/400 [==============================] - 929s 2s/step - loss: 0.6068 - accuracy: 0.7771 - val_loss: 0.6066 - val_accuracy: 0.7707\n",
            "Epoch 9/10\n",
            "400/400 [==============================] - ETA: 0s - loss: 0.5952 - accuracy: 0.7780\n",
            "Epoch 00009: saving model to /content/gdrive/My Drive/data/training/cp.ckpt\n",
            "400/400 [==============================] - 926s 2s/step - loss: 0.5952 - accuracy: 0.7780 - val_loss: 0.5882 - val_accuracy: 0.7802\n",
            "Epoch 10/10\n",
            "400/400 [==============================] - ETA: 0s - loss: 0.5914 - accuracy: 0.7816\n",
            "Epoch 00010: saving model to /content/gdrive/My Drive/data/training/cp.ckpt\n",
            "400/400 [==============================] - 924s 2s/step - loss: 0.5914 - accuracy: 0.7816 - val_loss: 1.0938 - val_accuracy: 0.5660\n"
          ],
          "name": "stdout"
        }
      ]
    },
    {
      "cell_type": "code",
      "metadata": {
        "id": "Wp66FPiAWqPj",
        "colab_type": "code",
        "colab": {}
      },
      "source": [
        "\n",
        "model.save(cwd_path + '/gdrive/My Drive/Colab Notebooks/WeatherClassifier_model_v4.h5') "
      ],
      "execution_count": null,
      "outputs": []
    },
    {
      "cell_type": "code",
      "metadata": {
        "id": "5oEt0mQqbi0n",
        "colab_type": "code",
        "colab": {}
      },
      "source": [
        ""
      ],
      "execution_count": null,
      "outputs": []
    }
  ]
}